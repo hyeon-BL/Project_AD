{
 "cells": [
  {
   "cell_type": "code",
   "execution_count": 1,
   "id": "49e38196",
   "metadata": {},
   "outputs": [],
   "source": [
    "import carla"
   ]
  },
  {
   "cell_type": "code",
   "execution_count": 2,
   "id": "5bbb2d7e",
   "metadata": {},
   "outputs": [],
   "source": [
    "# spawn firetruck at start_point\n",
    "client = carla.Client('10.8.179.139', 2000)\n",
    "\n",
    "world = client.get_world()\n",
    "spawn_points = world.get_map().get_spawn_points()\n",
    "\n",
    "vehicle_bp = world.get_blueprint_library().filter(\"firetruck*\")\n",
    "start_point = spawn_points[0]\n",
    "vehicle = world.try_spawn_actor(vehicle_bp[0], start_point)"
   ]
  },
  {
   "cell_type": "code",
   "execution_count": 3,
   "id": "ec5bc581",
   "metadata": {},
   "outputs": [
    {
     "name": "stdout",
     "output_type": "stream",
     "text": [
      "Transform(Location(x=-64.644844, y=24.471968, z=-0.001595), Rotation(pitch=0.000020, yaw=0.159199, roll=0.000936))\n"
     ]
    }
   ],
   "source": [
    "# get the car's position on the map\n",
    "vehicle_pos = vehicle.get_transform()\n",
    "print(vehicle_pos)"
   ]
  },
  {
   "cell_type": "code",
   "execution_count": 4,
   "id": "735162f7",
   "metadata": {},
   "outputs": [
    {
     "name": "stdout",
     "output_type": "stream",
     "text": [
      "Transform(Location(x=-64.644844, y=24.471010, z=0.600000), Rotation(pitch=0.000000, yaw=0.159198, roll=0.000000))\n"
     ]
    }
   ],
   "source": [
    "# initial spawn point is the same - just 0.6m higher off the ground\n",
    "print(start_point)"
   ]
  },
  {
   "cell_type": "code",
   "execution_count": 5,
   "id": "75d7aca0",
   "metadata": {},
   "outputs": [],
   "source": [
    "# send vehicle off\n",
    "vehicle.set_autopilot(True)"
   ]
  },
  {
   "cell_type": "code",
   "execution_count": 8,
   "id": "4cf78285",
   "metadata": {},
   "outputs": [
    {
     "name": "stdout",
     "output_type": "stream",
     "text": [
      "Transform(Location(x=-23.173193, y=13.119796, z=-0.003491), Rotation(pitch=-0.021877, yaw=-179.830887, roll=-0.000244))\n"
     ]
    }
   ],
   "source": [
    "# get actual position from the car moving\n",
    "vehicle_pos = vehicle.get_transform()\n",
    "print(vehicle_pos)"
   ]
  },
  {
   "cell_type": "code",
   "execution_count": 9,
   "id": "96e27d79",
   "metadata": {},
   "outputs": [],
   "source": [
    "# now look at the map\n",
    "town_map = world.get_map()"
   ]
  },
  {
   "cell_type": "code",
   "execution_count": 8,
   "id": "16e9b468",
   "metadata": {},
   "outputs": [
    {
     "data": {
      "text/plain": [
       "carla.libcarla.Map"
      ]
     },
     "execution_count": 8,
     "metadata": {},
     "output_type": "execute_result"
    }
   ],
   "source": [
    "type(town_map)"
   ]
  },
  {
   "cell_type": "code",
   "execution_count": 9,
   "id": "dc71f323",
   "metadata": {},
   "outputs": [
    {
     "name": "stdout",
     "output_type": "stream",
     "text": [
      "Map(name=Carla/Maps/Town10HD_Opt)\n"
     ]
    }
   ],
   "source": [
    "print(town_map)"
   ]
  },
  {
   "cell_type": "code",
   "execution_count": 10,
   "id": "2843a26e",
   "metadata": {},
   "outputs": [],
   "source": [
    "roads = town_map.get_topology()"
   ]
  },
  {
   "cell_type": "code",
   "execution_count": 11,
   "id": "af1ebd3e",
   "metadata": {},
   "outputs": [
    {
     "name": "stdout",
     "output_type": "stream",
     "text": [
      "[(<carla.libcarla.Waypoint object at 0x7f55680f70f0>, <carla.libcarla.Waypoint object at 0x7f55680f7150>), (<carla.libcarla.Waypoint object at 0x7f55680f71b0>, <carla.libcarla.Waypoint object at 0x7f55680f7210>), (<carla.libcarla.Waypoint object at 0x7f55680f7270>, <carla.libcarla.Waypoint object at 0x7f55680f72d0>), (<carla.libcarla.Waypoint object at 0x7f55680f7330>, <carla.libcarla.Waypoint object at 0x7f55680f7390>), (<carla.libcarla.Waypoint object at 0x7f55680f73f0>, <carla.libcarla.Waypoint object at 0x7f55680f7450>), (<carla.libcarla.Waypoint object at 0x7f55680f74b0>, <carla.libcarla.Waypoint object at 0x7f55680f7510>), (<carla.libcarla.Waypoint object at 0x7f55680f7570>, <carla.libcarla.Waypoint object at 0x7f55680f75d0>), (<carla.libcarla.Waypoint object at 0x7f55680f7630>, <carla.libcarla.Waypoint object at 0x7f55680f7690>), (<carla.libcarla.Waypoint object at 0x7f55680f76f0>, <carla.libcarla.Waypoint object at 0x7f55680f7750>), (<carla.libcarla.Waypoint object at 0x7f55680f77b0>, <carla.libcarla.Waypoint object at 0x7f55680f7810>), (<carla.libcarla.Waypoint object at 0x7f55680f7870>, <carla.libcarla.Waypoint object at 0x7f55680f78d0>), (<carla.libcarla.Waypoint object at 0x7f55680f7930>, <carla.libcarla.Waypoint object at 0x7f55680f7990>), (<carla.libcarla.Waypoint object at 0x7f55680f79f0>, <carla.libcarla.Waypoint object at 0x7f55680f7a50>), (<carla.libcarla.Waypoint object at 0x7f55680f7ab0>, <carla.libcarla.Waypoint object at 0x7f55680f7b10>), (<carla.libcarla.Waypoint object at 0x7f55680f7b70>, <carla.libcarla.Waypoint object at 0x7f55680f7bd0>), (<carla.libcarla.Waypoint object at 0x7f55680f7c30>, <carla.libcarla.Waypoint object at 0x7f55680f7c90>), (<carla.libcarla.Waypoint object at 0x7f55680f7cf0>, <carla.libcarla.Waypoint object at 0x7f55680f7d50>), (<carla.libcarla.Waypoint object at 0x7f55680f7db0>, <carla.libcarla.Waypoint object at 0x7f55680f7e10>), (<carla.libcarla.Waypoint object at 0x7f55680f7e70>, <carla.libcarla.Waypoint object at 0x7f55680f7ed0>), (<carla.libcarla.Waypoint object at 0x7f55680f7f30>, <carla.libcarla.Waypoint object at 0x7f55680f7f90>), (<carla.libcarla.Waypoint object at 0x7f55680f4030>, <carla.libcarla.Waypoint object at 0x7f55680f4090>), (<carla.libcarla.Waypoint object at 0x7f55680f40f0>, <carla.libcarla.Waypoint object at 0x7f55680f4150>), (<carla.libcarla.Waypoint object at 0x7f55680f41b0>, <carla.libcarla.Waypoint object at 0x7f55680f4210>), (<carla.libcarla.Waypoint object at 0x7f55680f4270>, <carla.libcarla.Waypoint object at 0x7f55680f42d0>), (<carla.libcarla.Waypoint object at 0x7f55680f4330>, <carla.libcarla.Waypoint object at 0x7f55680f4390>), (<carla.libcarla.Waypoint object at 0x7f55680f43f0>, <carla.libcarla.Waypoint object at 0x7f55680f4450>), (<carla.libcarla.Waypoint object at 0x7f55680f44b0>, <carla.libcarla.Waypoint object at 0x7f55680f4510>), (<carla.libcarla.Waypoint object at 0x7f55680f4570>, <carla.libcarla.Waypoint object at 0x7f55680f45d0>), (<carla.libcarla.Waypoint object at 0x7f55680f4630>, <carla.libcarla.Waypoint object at 0x7f55680f4690>), (<carla.libcarla.Waypoint object at 0x7f55680f46f0>, <carla.libcarla.Waypoint object at 0x7f55680f4750>), (<carla.libcarla.Waypoint object at 0x7f55680f47b0>, <carla.libcarla.Waypoint object at 0x7f55680f4810>), (<carla.libcarla.Waypoint object at 0x7f55680f4870>, <carla.libcarla.Waypoint object at 0x7f55680f48d0>), (<carla.libcarla.Waypoint object at 0x7f55680f4930>, <carla.libcarla.Waypoint object at 0x7f55680f4990>), (<carla.libcarla.Waypoint object at 0x7f55680f49f0>, <carla.libcarla.Waypoint object at 0x7f55680f4a50>), (<carla.libcarla.Waypoint object at 0x7f55680f4ab0>, <carla.libcarla.Waypoint object at 0x7f55680f4b10>), (<carla.libcarla.Waypoint object at 0x7f55680f4b70>, <carla.libcarla.Waypoint object at 0x7f55680f4bd0>), (<carla.libcarla.Waypoint object at 0x7f55680f4c30>, <carla.libcarla.Waypoint object at 0x7f55680f4c90>), (<carla.libcarla.Waypoint object at 0x7f55680f4cf0>, <carla.libcarla.Waypoint object at 0x7f55680f4d50>), (<carla.libcarla.Waypoint object at 0x7f55680f4db0>, <carla.libcarla.Waypoint object at 0x7f55680f4e10>), (<carla.libcarla.Waypoint object at 0x7f55680f4e70>, <carla.libcarla.Waypoint object at 0x7f55680f4ed0>), (<carla.libcarla.Waypoint object at 0x7f55680f4f30>, <carla.libcarla.Waypoint object at 0x7f55680f4f90>), (<carla.libcarla.Waypoint object at 0x7f55680f8030>, <carla.libcarla.Waypoint object at 0x7f55680f8090>), (<carla.libcarla.Waypoint object at 0x7f55680f80f0>, <carla.libcarla.Waypoint object at 0x7f55680f8150>), (<carla.libcarla.Waypoint object at 0x7f55680f81b0>, <carla.libcarla.Waypoint object at 0x7f55680f8210>), (<carla.libcarla.Waypoint object at 0x7f55680f8270>, <carla.libcarla.Waypoint object at 0x7f55680f82d0>), (<carla.libcarla.Waypoint object at 0x7f55680f8330>, <carla.libcarla.Waypoint object at 0x7f55680f8390>), (<carla.libcarla.Waypoint object at 0x7f55680f83f0>, <carla.libcarla.Waypoint object at 0x7f55680f8450>), (<carla.libcarla.Waypoint object at 0x7f55680f84b0>, <carla.libcarla.Waypoint object at 0x7f55680f8510>), (<carla.libcarla.Waypoint object at 0x7f55680f8570>, <carla.libcarla.Waypoint object at 0x7f55680f85d0>), (<carla.libcarla.Waypoint object at 0x7f55680f8630>, <carla.libcarla.Waypoint object at 0x7f55680f8690>), (<carla.libcarla.Waypoint object at 0x7f55680f86f0>, <carla.libcarla.Waypoint object at 0x7f55680f8750>), (<carla.libcarla.Waypoint object at 0x7f55680f87b0>, <carla.libcarla.Waypoint object at 0x7f55680f8810>), (<carla.libcarla.Waypoint object at 0x7f55680f8870>, <carla.libcarla.Waypoint object at 0x7f55680f88d0>), (<carla.libcarla.Waypoint object at 0x7f55680f8930>, <carla.libcarla.Waypoint object at 0x7f55680f8990>), (<carla.libcarla.Waypoint object at 0x7f55680f89f0>, <carla.libcarla.Waypoint object at 0x7f55680f8a50>), (<carla.libcarla.Waypoint object at 0x7f55680f8ab0>, <carla.libcarla.Waypoint object at 0x7f55680f8b10>), (<carla.libcarla.Waypoint object at 0x7f55680f8b70>, <carla.libcarla.Waypoint object at 0x7f55680f8bd0>), (<carla.libcarla.Waypoint object at 0x7f55680f8c30>, <carla.libcarla.Waypoint object at 0x7f55680f8c90>), (<carla.libcarla.Waypoint object at 0x7f55680f8cf0>, <carla.libcarla.Waypoint object at 0x7f55680f8d50>), (<carla.libcarla.Waypoint object at 0x7f55680f8db0>, <carla.libcarla.Waypoint object at 0x7f55680f8e10>), (<carla.libcarla.Waypoint object at 0x7f55680f8e70>, <carla.libcarla.Waypoint object at 0x7f55680f8ed0>), (<carla.libcarla.Waypoint object at 0x7f55680f8f30>, <carla.libcarla.Waypoint object at 0x7f55680f8f90>), (<carla.libcarla.Waypoint object at 0x7f55680f9030>, <carla.libcarla.Waypoint object at 0x7f55680f9090>), (<carla.libcarla.Waypoint object at 0x7f55680f90f0>, <carla.libcarla.Waypoint object at 0x7f55680f9150>), (<carla.libcarla.Waypoint object at 0x7f55680f91b0>, <carla.libcarla.Waypoint object at 0x7f55680f9210>), (<carla.libcarla.Waypoint object at 0x7f55680f9270>, <carla.libcarla.Waypoint object at 0x7f55680f92d0>), (<carla.libcarla.Waypoint object at 0x7f55680f9330>, <carla.libcarla.Waypoint object at 0x7f55680f9390>), (<carla.libcarla.Waypoint object at 0x7f55680f93f0>, <carla.libcarla.Waypoint object at 0x7f55680f9450>), (<carla.libcarla.Waypoint object at 0x7f55680f94b0>, <carla.libcarla.Waypoint object at 0x7f55680f9510>), (<carla.libcarla.Waypoint object at 0x7f55680f9570>, <carla.libcarla.Waypoint object at 0x7f55680f95d0>), (<carla.libcarla.Waypoint object at 0x7f55680f9630>, <carla.libcarla.Waypoint object at 0x7f55680f9690>), (<carla.libcarla.Waypoint object at 0x7f55680f96f0>, <carla.libcarla.Waypoint object at 0x7f55680f9750>), (<carla.libcarla.Waypoint object at 0x7f55680f97b0>, <carla.libcarla.Waypoint object at 0x7f55680f9810>), (<carla.libcarla.Waypoint object at 0x7f55680f9870>, <carla.libcarla.Waypoint object at 0x7f55680f98d0>), (<carla.libcarla.Waypoint object at 0x7f55680f9930>, <carla.libcarla.Waypoint object at 0x7f55680f9990>), (<carla.libcarla.Waypoint object at 0x7f55680f99f0>, <carla.libcarla.Waypoint object at 0x7f55680f9a50>), (<carla.libcarla.Waypoint object at 0x7f55680f9ab0>, <carla.libcarla.Waypoint object at 0x7f55680f9b10>), (<carla.libcarla.Waypoint object at 0x7f55680f9b70>, <carla.libcarla.Waypoint object at 0x7f55680f9bd0>), (<carla.libcarla.Waypoint object at 0x7f55680f9c30>, <carla.libcarla.Waypoint object at 0x7f55680f9c90>), (<carla.libcarla.Waypoint object at 0x7f55680f9cf0>, <carla.libcarla.Waypoint object at 0x7f55680f9d50>), (<carla.libcarla.Waypoint object at 0x7f55680f9db0>, <carla.libcarla.Waypoint object at 0x7f55680f9e10>), (<carla.libcarla.Waypoint object at 0x7f55680f9e70>, <carla.libcarla.Waypoint object at 0x7f55680f9ed0>), (<carla.libcarla.Waypoint object at 0x7f55680f9f30>, <carla.libcarla.Waypoint object at 0x7f55680f9f90>), (<carla.libcarla.Waypoint object at 0x7f55680fa030>, <carla.libcarla.Waypoint object at 0x7f55680fa090>), (<carla.libcarla.Waypoint object at 0x7f55680fa0f0>, <carla.libcarla.Waypoint object at 0x7f55680fa150>), (<carla.libcarla.Waypoint object at 0x7f55680fa1b0>, <carla.libcarla.Waypoint object at 0x7f55680fa210>), (<carla.libcarla.Waypoint object at 0x7f55680fa270>, <carla.libcarla.Waypoint object at 0x7f55680fa2d0>), (<carla.libcarla.Waypoint object at 0x7f55680fa330>, <carla.libcarla.Waypoint object at 0x7f55680fa390>), (<carla.libcarla.Waypoint object at 0x7f55680fa3f0>, <carla.libcarla.Waypoint object at 0x7f55680fa450>), (<carla.libcarla.Waypoint object at 0x7f55680fa4b0>, <carla.libcarla.Waypoint object at 0x7f55680fa510>), (<carla.libcarla.Waypoint object at 0x7f55680fa570>, <carla.libcarla.Waypoint object at 0x7f55680fa5d0>), (<carla.libcarla.Waypoint object at 0x7f55680fa630>, <carla.libcarla.Waypoint object at 0x7f55680fa690>), (<carla.libcarla.Waypoint object at 0x7f55680fa6f0>, <carla.libcarla.Waypoint object at 0x7f55680fa750>), (<carla.libcarla.Waypoint object at 0x7f55680fa7b0>, <carla.libcarla.Waypoint object at 0x7f55680fa810>), (<carla.libcarla.Waypoint object at 0x7f55680fa870>, <carla.libcarla.Waypoint object at 0x7f55680fa8d0>), (<carla.libcarla.Waypoint object at 0x7f55680fa930>, <carla.libcarla.Waypoint object at 0x7f55680fa990>), (<carla.libcarla.Waypoint object at 0x7f55680fa9f0>, <carla.libcarla.Waypoint object at 0x7f55680faa50>), (<carla.libcarla.Waypoint object at 0x7f55680faab0>, <carla.libcarla.Waypoint object at 0x7f55680fab10>), (<carla.libcarla.Waypoint object at 0x7f55680fab70>, <carla.libcarla.Waypoint object at 0x7f55680fabd0>), (<carla.libcarla.Waypoint object at 0x7f55680fac30>, <carla.libcarla.Waypoint object at 0x7f55680fac90>), (<carla.libcarla.Waypoint object at 0x7f55680facf0>, <carla.libcarla.Waypoint object at 0x7f55680fad50>), (<carla.libcarla.Waypoint object at 0x7f55680fadb0>, <carla.libcarla.Waypoint object at 0x7f55680fae10>), (<carla.libcarla.Waypoint object at 0x7f55680fae70>, <carla.libcarla.Waypoint object at 0x7f55680faed0>), (<carla.libcarla.Waypoint object at 0x7f55680faf30>, <carla.libcarla.Waypoint object at 0x7f55680faf90>), (<carla.libcarla.Waypoint object at 0x7f55680fb030>, <carla.libcarla.Waypoint object at 0x7f55680fb090>), (<carla.libcarla.Waypoint object at 0x7f55680fb0f0>, <carla.libcarla.Waypoint object at 0x7f55680fb150>), (<carla.libcarla.Waypoint object at 0x7f55680fb1b0>, <carla.libcarla.Waypoint object at 0x7f55680fb210>), (<carla.libcarla.Waypoint object at 0x7f55680fb270>, <carla.libcarla.Waypoint object at 0x7f55680fb2d0>), (<carla.libcarla.Waypoint object at 0x7f55680fb330>, <carla.libcarla.Waypoint object at 0x7f55680fb390>), (<carla.libcarla.Waypoint object at 0x7f55680fb3f0>, <carla.libcarla.Waypoint object at 0x7f55680fb450>), (<carla.libcarla.Waypoint object at 0x7f55680fb4b0>, <carla.libcarla.Waypoint object at 0x7f55680fb510>), (<carla.libcarla.Waypoint object at 0x7f55680fb570>, <carla.libcarla.Waypoint object at 0x7f55680fb5d0>), (<carla.libcarla.Waypoint object at 0x7f55680fb630>, <carla.libcarla.Waypoint object at 0x7f55680fb690>), (<carla.libcarla.Waypoint object at 0x7f55680fb6f0>, <carla.libcarla.Waypoint object at 0x7f55680fb750>), (<carla.libcarla.Waypoint object at 0x7f55680fb7b0>, <carla.libcarla.Waypoint object at 0x7f55680fb810>), (<carla.libcarla.Waypoint object at 0x7f55680fb870>, <carla.libcarla.Waypoint object at 0x7f55680fb8d0>), (<carla.libcarla.Waypoint object at 0x7f55680fb930>, <carla.libcarla.Waypoint object at 0x7f55680fb990>), (<carla.libcarla.Waypoint object at 0x7f55680fb9f0>, <carla.libcarla.Waypoint object at 0x7f55680fba50>), (<carla.libcarla.Waypoint object at 0x7f55680fbab0>, <carla.libcarla.Waypoint object at 0x7f55680fbb10>), (<carla.libcarla.Waypoint object at 0x7f55680fbb70>, <carla.libcarla.Waypoint object at 0x7f55680fbbd0>), (<carla.libcarla.Waypoint object at 0x7f55680fbc30>, <carla.libcarla.Waypoint object at 0x7f55680fbc90>), (<carla.libcarla.Waypoint object at 0x7f55680fbcf0>, <carla.libcarla.Waypoint object at 0x7f55680fbd50>), (<carla.libcarla.Waypoint object at 0x7f55680fbdb0>, <carla.libcarla.Waypoint object at 0x7f55680fbe10>), (<carla.libcarla.Waypoint object at 0x7f55680fbe70>, <carla.libcarla.Waypoint object at 0x7f55680fbed0>), (<carla.libcarla.Waypoint object at 0x7f55680fbf30>, <carla.libcarla.Waypoint object at 0x7f55680fbf90>), (<carla.libcarla.Waypoint object at 0x7f55680fc030>, <carla.libcarla.Waypoint object at 0x7f55680fc090>), (<carla.libcarla.Waypoint object at 0x7f55680fc0f0>, <carla.libcarla.Waypoint object at 0x7f55680fc150>), (<carla.libcarla.Waypoint object at 0x7f55680fc1b0>, <carla.libcarla.Waypoint object at 0x7f55680fc210>), (<carla.libcarla.Waypoint object at 0x7f55680fc270>, <carla.libcarla.Waypoint object at 0x7f55680fc2d0>), (<carla.libcarla.Waypoint object at 0x7f55680fc330>, <carla.libcarla.Waypoint object at 0x7f55680fc390>), (<carla.libcarla.Waypoint object at 0x7f55680fc3f0>, <carla.libcarla.Waypoint object at 0x7f55680fc450>), (<carla.libcarla.Waypoint object at 0x7f55680fc4b0>, <carla.libcarla.Waypoint object at 0x7f55680fc510>), (<carla.libcarla.Waypoint object at 0x7f55680fc570>, <carla.libcarla.Waypoint object at 0x7f55680fc5d0>), (<carla.libcarla.Waypoint object at 0x7f55680fc630>, <carla.libcarla.Waypoint object at 0x7f55680fc690>), (<carla.libcarla.Waypoint object at 0x7f55680fc6f0>, <carla.libcarla.Waypoint object at 0x7f55680fc750>), (<carla.libcarla.Waypoint object at 0x7f55680fc7b0>, <carla.libcarla.Waypoint object at 0x7f55680fc810>), (<carla.libcarla.Waypoint object at 0x7f55680fc870>, <carla.libcarla.Waypoint object at 0x7f55680fc8d0>), (<carla.libcarla.Waypoint object at 0x7f55680fc930>, <carla.libcarla.Waypoint object at 0x7f55680fc990>), (<carla.libcarla.Waypoint object at 0x7f55680fc9f0>, <carla.libcarla.Waypoint object at 0x7f55680fca50>), (<carla.libcarla.Waypoint object at 0x7f55680fcab0>, <carla.libcarla.Waypoint object at 0x7f55680fcb10>), (<carla.libcarla.Waypoint object at 0x7f55680fcb70>, <carla.libcarla.Waypoint object at 0x7f55680fcbd0>), (<carla.libcarla.Waypoint object at 0x7f55680fcc30>, <carla.libcarla.Waypoint object at 0x7f55680fcc90>), (<carla.libcarla.Waypoint object at 0x7f55680fccf0>, <carla.libcarla.Waypoint object at 0x7f55680fcd50>), (<carla.libcarla.Waypoint object at 0x7f55680fcdb0>, <carla.libcarla.Waypoint object at 0x7f55680fce10>), (<carla.libcarla.Waypoint object at 0x7f55680fce70>, <carla.libcarla.Waypoint object at 0x7f55680fced0>), (<carla.libcarla.Waypoint object at 0x7f55680fcf30>, <carla.libcarla.Waypoint object at 0x7f55680fcf90>), (<carla.libcarla.Waypoint object at 0x7f55680fd030>, <carla.libcarla.Waypoint object at 0x7f55680fd090>), (<carla.libcarla.Waypoint object at 0x7f55680fd0f0>, <carla.libcarla.Waypoint object at 0x7f55680fd150>), (<carla.libcarla.Waypoint object at 0x7f55680fd1b0>, <carla.libcarla.Waypoint object at 0x7f55680fd210>), (<carla.libcarla.Waypoint object at 0x7f55680fd270>, <carla.libcarla.Waypoint object at 0x7f55680fd2d0>), (<carla.libcarla.Waypoint object at 0x7f55680fd330>, <carla.libcarla.Waypoint object at 0x7f55680fd390>), (<carla.libcarla.Waypoint object at 0x7f55680fd3f0>, <carla.libcarla.Waypoint object at 0x7f55680fd450>), (<carla.libcarla.Waypoint object at 0x7f55680fd4b0>, <carla.libcarla.Waypoint object at 0x7f55680fd510>), (<carla.libcarla.Waypoint object at 0x7f55680fd570>, <carla.libcarla.Waypoint object at 0x7f55680fd5d0>), (<carla.libcarla.Waypoint object at 0x7f55680fd630>, <carla.libcarla.Waypoint object at 0x7f55680fd690>), (<carla.libcarla.Waypoint object at 0x7f55680fd6f0>, <carla.libcarla.Waypoint object at 0x7f55680fd750>), (<carla.libcarla.Waypoint object at 0x7f55680fd7b0>, <carla.libcarla.Waypoint object at 0x7f55680fd810>), (<carla.libcarla.Waypoint object at 0x7f55680fd870>, <carla.libcarla.Waypoint object at 0x7f55680fd8d0>), (<carla.libcarla.Waypoint object at 0x7f55680fd930>, <carla.libcarla.Waypoint object at 0x7f55680fd990>), (<carla.libcarla.Waypoint object at 0x7f55680fd9f0>, <carla.libcarla.Waypoint object at 0x7f55680fda50>), (<carla.libcarla.Waypoint object at 0x7f55680fdab0>, <carla.libcarla.Waypoint object at 0x7f55680fdb10>), (<carla.libcarla.Waypoint object at 0x7f55680fdb70>, <carla.libcarla.Waypoint object at 0x7f55680fdbd0>), (<carla.libcarla.Waypoint object at 0x7f55680fdc30>, <carla.libcarla.Waypoint object at 0x7f55680fdc90>), (<carla.libcarla.Waypoint object at 0x7f55680fdcf0>, <carla.libcarla.Waypoint object at 0x7f55680fdd50>), (<carla.libcarla.Waypoint object at 0x7f55680fddb0>, <carla.libcarla.Waypoint object at 0x7f55680fde10>), (<carla.libcarla.Waypoint object at 0x7f55680fde70>, <carla.libcarla.Waypoint object at 0x7f55680fded0>), (<carla.libcarla.Waypoint object at 0x7f55680fdf30>, <carla.libcarla.Waypoint object at 0x7f55680fdf90>), (<carla.libcarla.Waypoint object at 0x7f55680fe030>, <carla.libcarla.Waypoint object at 0x7f55680fe090>), (<carla.libcarla.Waypoint object at 0x7f55680fe0f0>, <carla.libcarla.Waypoint object at 0x7f55680fe150>), (<carla.libcarla.Waypoint object at 0x7f55680fe1b0>, <carla.libcarla.Waypoint object at 0x7f55680fe210>), (<carla.libcarla.Waypoint object at 0x7f55680fe270>, <carla.libcarla.Waypoint object at 0x7f55680fe2d0>), (<carla.libcarla.Waypoint object at 0x7f55680fe330>, <carla.libcarla.Waypoint object at 0x7f55680fe390>), (<carla.libcarla.Waypoint object at 0x7f55680fe3f0>, <carla.libcarla.Waypoint object at 0x7f55680fe450>), (<carla.libcarla.Waypoint object at 0x7f55680fe4b0>, <carla.libcarla.Waypoint object at 0x7f55680fe510>), (<carla.libcarla.Waypoint object at 0x7f55680fe570>, <carla.libcarla.Waypoint object at 0x7f55680fe5d0>), (<carla.libcarla.Waypoint object at 0x7f55680fe630>, <carla.libcarla.Waypoint object at 0x7f55680fe690>), (<carla.libcarla.Waypoint object at 0x7f55680fe6f0>, <carla.libcarla.Waypoint object at 0x7f55680fe750>), (<carla.libcarla.Waypoint object at 0x7f55680fe7b0>, <carla.libcarla.Waypoint object at 0x7f55680fe810>), (<carla.libcarla.Waypoint object at 0x7f55680fe870>, <carla.libcarla.Waypoint object at 0x7f55680fe8d0>), (<carla.libcarla.Waypoint object at 0x7f55680fe930>, <carla.libcarla.Waypoint object at 0x7f55680fe990>), (<carla.libcarla.Waypoint object at 0x7f55680fe9f0>, <carla.libcarla.Waypoint object at 0x7f55680fea50>), (<carla.libcarla.Waypoint object at 0x7f55680feab0>, <carla.libcarla.Waypoint object at 0x7f55680feb10>), (<carla.libcarla.Waypoint object at 0x7f55680feb70>, <carla.libcarla.Waypoint object at 0x7f55680febd0>), (<carla.libcarla.Waypoint object at 0x7f55680fec30>, <carla.libcarla.Waypoint object at 0x7f55680fec90>), (<carla.libcarla.Waypoint object at 0x7f55680fecf0>, <carla.libcarla.Waypoint object at 0x7f55680fed50>), (<carla.libcarla.Waypoint object at 0x7f55680fedb0>, <carla.libcarla.Waypoint object at 0x7f55680fee10>), (<carla.libcarla.Waypoint object at 0x7f55680fee70>, <carla.libcarla.Waypoint object at 0x7f55680feed0>), (<carla.libcarla.Waypoint object at 0x7f55680fef30>, <carla.libcarla.Waypoint object at 0x7f55680fef90>), (<carla.libcarla.Waypoint object at 0x7f556807f030>, <carla.libcarla.Waypoint object at 0x7f556807f090>), (<carla.libcarla.Waypoint object at 0x7f556807f0f0>, <carla.libcarla.Waypoint object at 0x7f556807f150>), (<carla.libcarla.Waypoint object at 0x7f556807f1b0>, <carla.libcarla.Waypoint object at 0x7f556807f210>), (<carla.libcarla.Waypoint object at 0x7f556807f270>, <carla.libcarla.Waypoint object at 0x7f556807f2d0>), (<carla.libcarla.Waypoint object at 0x7f556807f330>, <carla.libcarla.Waypoint object at 0x7f556807f390>), (<carla.libcarla.Waypoint object at 0x7f556807f3f0>, <carla.libcarla.Waypoint object at 0x7f556807f450>), (<carla.libcarla.Waypoint object at 0x7f556807f4b0>, <carla.libcarla.Waypoint object at 0x7f556807f510>), (<carla.libcarla.Waypoint object at 0x7f556807f570>, <carla.libcarla.Waypoint object at 0x7f556807f5d0>), (<carla.libcarla.Waypoint object at 0x7f556807f630>, <carla.libcarla.Waypoint object at 0x7f556807f690>), (<carla.libcarla.Waypoint object at 0x7f556807f6f0>, <carla.libcarla.Waypoint object at 0x7f556807f750>), (<carla.libcarla.Waypoint object at 0x7f556807f7b0>, <carla.libcarla.Waypoint object at 0x7f556807f810>), (<carla.libcarla.Waypoint object at 0x7f556807f870>, <carla.libcarla.Waypoint object at 0x7f556807f8d0>)]\n"
     ]
    }
   ],
   "source": [
    "# topology is pairs of waypoints defining all roads - tuples of those\n",
    "print(roads)"
   ]
  },
  {
   "cell_type": "code",
   "execution_count": 12,
   "id": "44d8b933",
   "metadata": {},
   "outputs": [
    {
     "name": "stdout",
     "output_type": "stream",
     "text": [
      "Waypoint(Transform(Location(x=-27.017662, y=66.214005, z=0.000000), Rotation(pitch=0.000000, yaw=-179.926727, roll=0.000000)))\n"
     ]
    }
   ],
   "source": [
    "# have a look at a waypoint - it is transform wrapped as a waypoint\n",
    "print(roads[0][0])"
   ]
  },
  {
   "cell_type": "code",
   "execution_count": 13,
   "id": "3b6f1491",
   "metadata": {},
   "outputs": [
    {
     "data": {
      "text/plain": [
       "200"
      ]
     },
     "execution_count": 13,
     "metadata": {},
     "output_type": "execute_result"
    }
   ],
   "source": [
    "len(roads)"
   ]
  },
  {
   "cell_type": "markdown",
   "id": "f68dde50",
   "metadata": {},
   "source": [
    "### GlobalRoutePlanner"
   ]
  },
  {
   "cell_type": "code",
   "execution_count": 7,
   "id": "96a053f3",
   "metadata": {},
   "outputs": [],
   "source": [
    "import sys\n",
    "sys.path.append('/opt/carla-simulator/PythonAPI/carla')\n",
    "from agents.navigation.global_route_planner import GlobalRoutePlanner"
   ]
  },
  {
   "cell_type": "code",
   "execution_count": 11,
   "id": "4ce74ccb",
   "metadata": {},
   "outputs": [],
   "source": [
    "# using the code to plan the route and then draw it in the simulator\n",
    "# town10HD_map = world.get_map()\n",
    "\n",
    "sampling_resolution = 2\n",
    "\n",
    "grp = GlobalRoutePlanner(town_map, sampling_resolution)\n",
    "\n",
    "point_a = carla.Location(x=-64.644844, y=24.471010, z=0.600000)\n",
    "point_b = carla.Location(x=-113.903656, y=14.422489, z=-0.003719)\n",
    "\n",
    "route = grp.trace_route(point_a, point_b) # there are other functions can be used\n",
    "\n",
    "for waypoint in route:\n",
    "    world.debug.draw_string(waypoint[0].transform.location, '^', draw_shadow=False,\n",
    "                           color=carla.Color(r=0, g=0, b=255), life_time=120.0,\n",
    "                           persistent_lines=True)\n"
   ]
  },
  {
   "cell_type": "code",
   "execution_count": 12,
   "id": "7283df9e",
   "metadata": {},
   "outputs": [],
   "source": [
    "# utility script of destruction\n",
    "\n",
    "for actor in world.get_actors().filter('*vehicle*'):\n",
    "    actor.destroy()\n",
    "    \n",
    "for sensor in world.get_actors().filter('*sensor*'):\n",
    "    sensor.destroy()"
   ]
  },
  {
   "cell_type": "markdown",
   "id": "76ebed74",
   "metadata": {},
   "source": [
    "### now we define 2 cars\n"
   ]
  },
  {
   "cell_type": "code",
   "execution_count": 14,
   "id": "6245502e",
   "metadata": {},
   "outputs": [],
   "source": [
    "# now we define 2 cars\n",
    "truck_bp = world.get_blueprint_library().filter('*firetruck*')\n",
    "mini_bp = world.get_blueprint_library().filter('*cooper_s*')\n",
    "\n",
    "# start first car in already defined start point\n",
    "truck = world.try_spawn_actor(truck_bp[0], start_point)"
   ]
  },
  {
   "cell_type": "code",
   "execution_count": 15,
   "id": "c2b10314",
   "metadata": {},
   "outputs": [],
   "source": [
    "# twak spectator position to watch the show\n",
    "\n",
    "spectator = world.get_spectator()\n",
    "spawn_points = world.get_map().get_spawn_points()\n",
    "start_point = spawn_points[0]\n",
    "\n",
    "spectator_pos = carla.Transform(start_point.location + carla.Location(x=20,y=10,z=4), # automatically move \n",
    "                                                                      carla.Rotation(yaw = start_point.rotation.yaw -155))\n",
    "\n",
    "spectator.set_transform(spectator_pos)"
   ]
  },
  {
   "cell_type": "code",
   "execution_count": 16,
   "id": "8bc27a76",
   "metadata": {},
   "outputs": [],
   "source": [
    "# drop the Mini the sky -  watch what happens after\n",
    "\n",
    "# spawn it first somewhere else\n",
    "mini = world.try_spawn_actor(mini_bp[0], spawn_points[10])\n",
    "\n",
    "mini_pos = carla.Transform(start_point.location + carla.Location(x=-4, z=10), carla.Rotation(yaw=start_point.rotation.yaw - 0))\n",
    "mini.set_transform(mini_pos)"
   ]
  },
  {
   "cell_type": "code",
   "execution_count": null,
   "id": "aff0248d",
   "metadata": {},
   "outputs": [],
   "source": []
  }
 ],
 "metadata": {
  "kernelspec": {
   "display_name": "Python 3 (ipykernel)",
   "language": "python",
   "name": "python3"
  },
  "language_info": {
   "codemirror_mode": {
    "name": "ipython",
    "version": 3
   },
   "file_extension": ".py",
   "mimetype": "text/x-python",
   "name": "python",
   "nbconvert_exporter": "python",
   "pygments_lexer": "ipython3",
   "version": "3.7.17"
  }
 },
 "nbformat": 4,
 "nbformat_minor": 5
}
